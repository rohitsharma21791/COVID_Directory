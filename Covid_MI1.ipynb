{
  "nbformat": 4,
  "nbformat_minor": 0,
  "metadata": {
    "accelerator": "GPU",
    "colab": {
      "name": "Covid_MI1.ipynb",
      "provenance": [],
      "collapsed_sections": [],
      "mount_file_id": "1cR78uG9BslwiODNJDVlz73k8Dfq4Dbbk",
      "authorship_tag": "ABX9TyMklCwa74tgYDZCTzsokdzQ",
      "include_colab_link": true
    },
    "kernelspec": {
      "display_name": "Python 3",
      "name": "python3"
    },
    "language_info": {
      "name": "python"
    }
  },
  "cells": [
    {
      "cell_type": "markdown",
      "metadata": {
        "id": "view-in-github",
        "colab_type": "text"
      },
      "source": [
        "<a href=\"https://colab.research.google.com/github/rohitsharma21791/rohitsharma21791/blob/main/Covid_MI1.ipynb\" target=\"_parent\"><img src=\"https://colab.research.google.com/assets/colab-badge.svg\" alt=\"Open In Colab\"/></a>"
      ]
    },
    {
      "cell_type": "code",
      "metadata": {
        "id": "HTKpdReY8_Kn"
      },
      "source": [
        "# Mount Drive\n",
        "from google.colab import drive\n",
        "drive.mount('/content/drive/')\n",
        "!nvidia-smi"
      ],
      "execution_count": null,
      "outputs": []
    },
    {
      "cell_type": "code",
      "metadata": {
        "id": "nXH-7Kp0-wh4"
      },
      "source": [
        "############## Reset variables###########\n",
        "%reset -f"
      ],
      "execution_count": 73,
      "outputs": []
    },
    {
      "cell_type": "code",
      "metadata": {
        "id": "PLKs_V0n9IPU"
      },
      "source": [
        "############## Unrar compressed image dataset\n",
        "!unrar x -Y \"/content/drive/MyDrive/Gray.rar\" \"/content/\""
      ],
      "execution_count": null,
      "outputs": []
    },
    {
      "cell_type": "code",
      "metadata": {
        "id": "zfvXfDW79svK"
      },
      "source": [
        "########### Import libraries################\n",
        "import os\n",
        "import shutil\n",
        "import cv2 as cv\n",
        "import random\n",
        "import numpy as np\n",
        "import seaborn as sns\n",
        "from tensorflow.keras.models import Sequential\n",
        "from tensorflow.keras.layers import Conv2D,Dense,Flatten,MaxPooling2D,Dropout\n",
        "import matplotlib.pyplot as plt\n"
      ],
      "execution_count": 75,
      "outputs": []
    },
    {
      "cell_type": "code",
      "metadata": {
        "id": "QGZAGWKM-S16"
      },
      "source": [
        "##########################################################\n",
        "\n",
        "from keras.preprocessing.image import ImageDataGenerator\n",
        "from keras.models import Sequential\n",
        "from keras.layers import Input, Dense, Conv2D, Conv3D, DepthwiseConv2D, SeparableConv2D, Conv3DTranspose\n",
        "from keras.layers import Activation, Dropout, Flatten, Dense,Input\n",
        "#from keras import backend as K\n",
        "####################################################\n",
        "import os\n",
        "import cv2\n",
        "from PIL import Image\n",
        "import numpy as np\n",
        "from tensorflow.keras.utils import to_categorical\n",
        "from sklearn.model_selection import train_test_split\n",
        "\n",
        "from keras.layers import Concatenate, Add, Dropout, ReLU, Lambda, Activation, LeakyReLU, PReLU\n",
        "\n",
        "from keras.callbacks import EarlyStopping,CSVLogger\n"
      ],
      "execution_count": 76,
      "outputs": []
    },
    {
      "cell_type": "code",
      "metadata": {
        "colab": {
          "base_uri": "https://localhost:8080/"
        },
        "id": "OxW-bqJs1Y76",
        "outputId": "afb46bd2-0718-44cf-903a-beb548e86137"
      },
      "source": [
        "import keras\n",
        "import keras.backend as K\n",
        "from keras.models import Model\n",
        "from keras.layers import Input, Dense, Conv2D, Conv3D, DepthwiseConv2D, SeparableConv2D, Conv3DTranspose\n",
        "from keras.layers import Flatten, MaxPool2D, AvgPool2D, GlobalAvgPool2D, UpSampling2D, BatchNormalization\n",
        "from keras.layers import Concatenate, Add, Dropout, ReLU, Lambda, Activation, LeakyReLU, PReLU\n",
        "\n",
        "from IPython.display import SVG\n",
        "from keras.utils.vis_utils import model_to_dot\n",
        "\n",
        "from time import time\n",
        "import numpy as np\n",
        "########## import confusion matrix and calc_precsion_recall python files to current working directory\n",
        "\n",
        "from distutils.file_util import copy_file\n",
        "copy_file(\"/content/drive/MyDrive/Colab Notebooks/make_confusion_matrix.py\", \"/content/\")\n",
        "\n",
        "copy_file(\"/content/drive/MyDrive/Colab Notebooks/calc_precision_recall.py\", \"/content/\")"
      ],
      "execution_count": 77,
      "outputs": [
        {
          "output_type": "execute_result",
          "data": {
            "text/plain": [
              "('/content/calc_precision_recall.py', 1)"
            ]
          },
          "metadata": {
            "tags": []
          },
          "execution_count": 77
        }
      ]
    },
    {
      "cell_type": "code",
      "metadata": {
        "colab": {
          "base_uri": "https://localhost:8080/",
          "height": 35
        },
        "id": "wnpzfgYm09Gh",
        "outputId": "c5512c0b-8cb4-4e95-9508-44a9dcc2b3c1"
      },
      "source": [
        "dir = '/content/Covid_MI'\n",
        "if os.path.exists(dir):\n",
        "    shutil.rmtree(dir)\n",
        "src_dir1='/content/Gray/ECG_covid'\n",
        " \n",
        "dst_dir1 ='/content/Covid_MI'\n",
        "  \n",
        "shutil.copytree( src_dir1, dst_dir1)"
      ],
      "execution_count": 78,
      "outputs": [
        {
          "output_type": "execute_result",
          "data": {
            "application/vnd.google.colaboratory.intrinsic+json": {
              "type": "string"
            },
            "text/plain": [
              "'/content/Covid_MI'"
            ]
          },
          "metadata": {
            "tags": []
          },
          "execution_count": 78
        }
      ]
    },
    {
      "cell_type": "code",
      "metadata": {
        "colab": {
          "base_uri": "https://localhost:8080/"
        },
        "id": "_EUITdL4_mqB",
        "outputId": "86c83a3c-c9c2-4d73-b963-6a9acaa0f89d"
      },
      "source": [
        "########## read Image data set##################\n",
        "image_directory = '/content/Covid_MI/'\n",
        "SIZE =124\n",
        "dataset = []  #Many ways to handle data, you can use pandas. Here, we are using a list format.  \n",
        "label = []  #Place holders to define add labels. We will add 0 to all parasitized images and 1 to uninfected.\n",
        "\n",
        "Covid_images = os.listdir(image_directory + 'ECG Images of COVID-19 Patients (250)/')\n",
        "for i, image_name in enumerate(Covid_images):    #Remember enumerate method adds a counter and returns the enumerate object\n",
        "    \n",
        "    if (image_name.split('.')[1] == 'jpg'):\n",
        "        image = cv2.imread((image_directory + 'ECG Images of COVID-19 Patients (250)/' + image_name),0)\n",
        "        image = Image.fromarray(image)\n",
        "        image = image.resize((SIZE, SIZE))\n",
        "        dataset.append(np.array(image))\n",
        "        label.append(1)\n",
        "\n",
        "#Iterate through all images in Uninfected folder, resize to 64 x 64\n",
        "#Then save into the same numpy array 'dataset' but with label 1\n",
        "\n",
        "MI_images = os.listdir(image_directory + 'ECG Images of Patient that have abnormal heart beats (548)/')\n",
        "for i, image_name in enumerate(MI_images):\n",
        "    if (image_name.split('.')[1] == 'jpg'):\n",
        "        image = cv2.imread((image_directory +  'ECG Images of Patient that have abnormal heart beats (548)/' + image_name),0)\n",
        "        image = Image.fromarray(image)\n",
        "        image = image.resize((SIZE, SIZE))\n",
        "        dataset.append(np.array(image))\n",
        "        label.append(0)\n",
        "\n",
        "       \n",
        "\n",
        "dataset = np.array(dataset)\n",
        "label = np.array(label)\n",
        "\n",
        "\n",
        "#from keras.utils import to_categorical\n",
        "\n",
        "X_train, X_test, y_train, y_test = train_test_split(dataset, label, test_size = 0.2, random_state = 32,stratify=label)\n",
        "y_test_label=y_test\n",
        "#y_test=to_categorical(y_test)\n",
        "#y_train=to_categorical(y_train)\n",
        "print(y_train.shape)\n",
        "print(y_test.shape)\n"
      ],
      "execution_count": 79,
      "outputs": [
        {
          "output_type": "stream",
          "text": [
            "(636,)\n",
            "(160,)\n"
          ],
          "name": "stdout"
        }
      ]
    },
    {
      "cell_type": "code",
      "metadata": {
        "id": "_V_eDzz6DQxJ"
      },
      "source": [
        "#Without scaling (normalize) the training may not converge. \n",
        "#Normalization is a rescaling of the data from the original range \n",
        "#so that all values are within the range of 0 and 1.\n",
        "\n",
        "X_train=np.array(X_train).reshape(-1,SIZE, SIZE,1)\n",
        "X_train=X_train/255.0\n",
        "\n",
        "\n",
        "X_test=np.array(X_test).reshape(-1,SIZE, SIZE,1)\n",
        "X_test=X_test/255.0\n",
        "\n"
      ],
      "execution_count": 80,
      "outputs": []
    },
    {
      "cell_type": "code",
      "metadata": {
        "colab": {
          "base_uri": "https://localhost:8080/"
        },
        "id": "Eq9Es1u44A_S",
        "outputId": "4b27a975-d6e4-4cd8-db88-09efa695357d"
      },
      "source": [
        "\n",
        "\n",
        "###2 conv and pool layers. with some normalization and drops in between.\n",
        "\n",
        "INPUT_SHAPE = (SIZE, SIZE, 1)   #change to (SIZE, SIZE, 3)\n",
        "\n",
        "\n",
        "model = Sequential()\n",
        "model.add(Conv2D(32, (3, 3), input_shape=INPUT_SHAPE))\n",
        "model.add(Activation('relu'))\n",
        "model.add(MaxPooling2D(pool_size=(2, 2)))\n",
        "\n",
        "model.add(Conv2D(32, (3, 3)))\n",
        "model.add(Activation('relu'))\n",
        "model.add(MaxPooling2D(pool_size=(2, 2)))\n",
        "\n",
        "model.add(Conv2D(64, (3, 3)))\n",
        "model.add(Activation('relu'))\n",
        "model.add(MaxPooling2D(pool_size=(2, 2)))\n",
        "\n",
        "model.add(Flatten())\n",
        "model.add(Dense(32))\n",
        "model.add(Activation('relu'))\n",
        "model.add(Dropout(0.5))\n",
        "\n",
        "model.add(Dense(1))\n",
        "model.add(Activation('sigmoid'))\n",
        "\n",
        "model.compile(optimizer=\"adam\", loss='binary_crossentropy', metrics=['accuracy','Precision','Recall'])\n",
        "model.summary()"
      ],
      "execution_count": 81,
      "outputs": [
        {
          "output_type": "stream",
          "text": [
            "Model: \"sequential_2\"\n",
            "_________________________________________________________________\n",
            "Layer (type)                 Output Shape              Param #   \n",
            "=================================================================\n",
            "conv2d_6 (Conv2D)            (None, 122, 122, 32)      320       \n",
            "_________________________________________________________________\n",
            "activation_10 (Activation)   (None, 122, 122, 32)      0         \n",
            "_________________________________________________________________\n",
            "module_wrapper_6 (ModuleWrap (None, 61, 61, 32)        0         \n",
            "_________________________________________________________________\n",
            "conv2d_7 (Conv2D)            (None, 59, 59, 32)        9248      \n",
            "_________________________________________________________________\n",
            "activation_11 (Activation)   (None, 59, 59, 32)        0         \n",
            "_________________________________________________________________\n",
            "module_wrapper_7 (ModuleWrap (None, 29, 29, 32)        0         \n",
            "_________________________________________________________________\n",
            "conv2d_8 (Conv2D)            (None, 27, 27, 64)        18496     \n",
            "_________________________________________________________________\n",
            "activation_12 (Activation)   (None, 27, 27, 64)        0         \n",
            "_________________________________________________________________\n",
            "module_wrapper_8 (ModuleWrap (None, 13, 13, 64)        0         \n",
            "_________________________________________________________________\n",
            "flatten_2 (Flatten)          (None, 10816)             0         \n",
            "_________________________________________________________________\n",
            "dense_4 (Dense)              (None, 32)                346144    \n",
            "_________________________________________________________________\n",
            "activation_13 (Activation)   (None, 32)                0         \n",
            "_________________________________________________________________\n",
            "dropout_2 (Dropout)          (None, 32)                0         \n",
            "_________________________________________________________________\n",
            "dense_5 (Dense)              (None, 1)                 33        \n",
            "_________________________________________________________________\n",
            "activation_14 (Activation)   (None, 1)                 0         \n",
            "=================================================================\n",
            "Total params: 374,241\n",
            "Trainable params: 374,241\n",
            "Non-trainable params: 0\n",
            "_________________________________________________________________\n"
          ],
          "name": "stdout"
        }
      ]
    },
    {
      "cell_type": "code",
      "metadata": {
        "id": "XWLk_vyKHgjO"
      },
      "source": [
        "###############################################################  \n",
        "\n",
        "early_stop = EarlyStopping(monitor='val_loss', patience=10, verbose=1,restore_best_weights=True)\n",
        "\n",
        "log_csv=CSVLogger(\"/content/drive/MyDrive/CSV_logger/two_class_covid.csv\",separator=\",\", append=False)\n",
        "\n",
        "\n",
        "callbacks_list = [early_stop, log_csv]\n",
        "history = model.fit(X_train, \n",
        "                         y_train, \n",
        "                         batch_size = 32, \n",
        "                         verbose = 1, \n",
        "                         epochs = 25,      \n",
        "                         validation_split=0.2, callbacks=callbacks_list)\n",
        "\n",
        "                         \n",
        "\n",
        "\n"
      ],
      "execution_count": null,
      "outputs": []
    },
    {
      "cell_type": "code",
      "metadata": {
        "id": "C5m3In8TJvIW"
      },
      "source": [
        "test_loss,test_acc,test_Pre,test_recall=model.evaluate(X_test,y_test)\n",
        "print(test_loss)\n",
        "print(test_acc)\n",
        "test_Pre"
      ],
      "execution_count": null,
      "outputs": []
    },
    {
      "cell_type": "code",
      "metadata": {
        "colab": {
          "base_uri": "https://localhost:8080/",
          "height": 573
        },
        "id": "hSLr4eHbIgNm",
        "outputId": "2d828551-1e9c-4e8d-f8da-0e9839b18111"
      },
      "source": [
        "hist=history\n",
        "plt.plot(hist.history['loss'])\n",
        "plt.plot(hist.history['val_loss'])\n",
        "plt.title('Classifier Loss')\n",
        "plt.ylabel('Loss')\n",
        "plt.xlabel('Epoch')\n",
        "plt.legend(['Train','Validation'],loc='upper right')\n",
        "plt.show()\n",
        "\n",
        "plt.plot(hist.history['accuracy'])\n",
        "plt.plot(hist.history['val_accuracy'])\n",
        "plt.title('Classifier Accuracy')\n",
        "plt.ylabel('Accuracy')\n",
        "plt.xlabel('Epoch')\n",
        "plt.legend(['Train','Validation'],loc='upper left')\n",
        "plt.show()\n",
        "\n"
      ],
      "execution_count": 84,
      "outputs": [
        {
          "output_type": "display_data",
          "data": {
            "image/png": "[encoded data removed]",
            "text/plain": [
              "<Figure size 432x288 with 1 Axes>"
            ]
          },
          "metadata": {
            "tags": [],
            "needs_background": "light"
          }
        },
        {
          "output_type": "display_data",
          "data": {
            "image/png": "[encoded data removed]",
            "text/plain": [
              "<Figure size 432x288 with 1 Axes>"
            ]
          },
          "metadata": {
            "tags": [],
            "needs_background": "light"
          }
        }
      ]
    },
    {
      "cell_type": "code",
      "metadata": {
        "id": "5eMFqt0GTGM0"
      },
      "source": [
        "################# Ideal Theshold Calculation ############################\n",
        "\n",
        "import numpy as np\n",
        "\n",
        "def roc_curve(y_test, y_prob, thresholds):\n",
        "\n",
        "    fpr = []\n",
        "    tpr = []\n",
        "    \n",
        "    for threshold in thresholds:\n",
        "\n",
        "        y_pred = np.where(y_prob >= threshold, 1, 0)\n",
        "\n",
        "        fp = np.sum((y_pred == 1) & (y_test== 0))\n",
        "        tp = np.sum((y_pred == 1) & (y_test == 1))\n",
        "\n",
        "        fn = np.sum((y_pred == 0) & (y_test == 1))\n",
        "        tn = np.sum((y_pred == 0) & (y_test == 0))\n",
        "\n",
        "        fpr.append(fp / (fp + tn))\n",
        "        tpr.append(tp / (tp + fn))\n",
        "\n",
        "    return [fpr, tpr]\n",
        "\n",
        "y_prob1 = model.predict(X_test).ravel()\n",
        "thresholds1= list(np.arange(-1, 1, 0.001))\n",
        "[fpr1,tpr1]=roc_curve(y_test,y_prob1, thresholds1)\n",
        "thresholds1=np.array(thresholds1)\n",
        "tpr1=np.array(tpr1)\n",
        "fpr1=np.array(fpr1)\n",
        "import pandas as pd\n",
        "i = np.arange(len(tpr1)) \n",
        "roc1 = pd.DataFrame({'tf' : pd.Series(tpr1-(1-fpr1), index=i), 'thresholds1' : pd.Series(thresholds1, index=i)})\n",
        "ideal_roc_thresh1 = roc1.iloc[(roc1.tf-0).abs().argsort()[:1]]  #Locate the point where the value is close to 0\n",
        "print(\"Ideal threshold is: \", ideal_roc_thresh1['thresholds1'])"
      ],
      "execution_count": null,
      "outputs": []
    },
    {
      "cell_type": "code",
      "metadata": {
        "id": "lgfyKJDMt6Z_"
      },
      "source": [
        "############## Confusion Matrix Calculation###################\n",
        "\n",
        "series_list=ideal_roc_thresh1['thresholds1'].tolist()\n",
        "mythreshold=series_list[0]\n",
        "from sklearn.metrics import confusion_matrix\n",
        "from sklearn.metrics import roc_curve, plot_roc_curve\n",
        "\n",
        "y_prob=model.predict(X_test)\n",
        "y_pred = ((y_prob)>= mythreshold).astype(int)\n",
        "y_pred1=y_pred\n",
        "cm=confusion_matrix(y_test, y_pred)    #################### Confusion Matrix\n",
        "print(cm)\n"
      ],
      "execution_count": null,
      "outputs": []
    },
    {
      "cell_type": "code",
      "metadata": {
        "colab": {
          "base_uri": "https://localhost:8080/",
          "height": 491
        },
        "id": "4YTCGC-G2AJ5",
        "outputId": "195ee34b-19fc-4844-feda-f6a1c3d24ebe"
      },
      "source": [
        "#################Confusion Metrics plot ###################################\n",
        "\n",
        "\n",
        "from sklearn.metrics import confusion_matrix\n",
        "from make_confusion_matrix import make_confusion_matrix\n",
        "from calc_precision_recall import calc_precision_recall\n",
        "TP,TN,FP,FN,precision, recall=calc_precision_recall(y_test, y_pred)\n",
        "\n",
        "f2_score=(5*precision*recall) / ((4*precision) + recall)\n",
        "print(f2_score)\n",
        "\n",
        "cm=confusion_matrix(y_test_label,y_pred)\n",
        "make_confusion_matrix(cm, figsize=(8,6), cbar=False,title=\"Confusion Matrix\",categories=['abnormal heart beats',\"Covid\"])"
      ],
      "execution_count": 87,
      "outputs": [
        {
          "output_type": "stream",
          "text": [
            "1.0\n"
          ],
          "name": "stdout"
        },
        {
          "output_type": "display_data",
          "data": {
            "image/png": "[encoded data removed]",
            "text/plain": [
              "<Figure size 576x432 with 1 Axes>"
            ]
          },
          "metadata": {
            "tags": [],
            "needs_background": "light"
          }
        }
      ]
    },
    {
      "cell_type": "code",
      "metadata": {
        "colab": {
          "base_uri": "https://localhost:8080/",
          "height": 304
        },
        "id": "flOB8pUz_mGo",
        "outputId": "eb2f5fac-86f2-4e4e-85d9-a82fc6a0d20c"
      },
      "source": [
        "############################################### ROC Curve\n",
        "\n",
        "\n",
        "\n",
        "plt.plot(fpr1, tpr1,linewidth=3, marker='.', color='Red')\n",
        "plt.plot([0, 1], [0, 1], 'y--',linewidth=3)\n",
        "plt.xlabel('False positive rate', fontsize=15, color='Blue')\n",
        "plt.ylabel('True positive rate',fontsize=15,color='Blue')\n",
        "plt.title('ROC curve ',fontsize=18,color='Blue')\n",
        "plt.legend(['CNN Classifier(AUC=1.0)','Random Classifier(AUC=0.5)'],loc='lower right', fontsize=10)\n",
        "plt.show()\n"
      ],
      "execution_count": 88,
      "outputs": [
        {
          "output_type": "display_data",
          "data": {
            "image/png": "[encoded data removed]",
            "text/plain": [
              "<Figure size 432x288 with 1 Axes>"
            ]
          },
          "metadata": {
            "tags": [],
            "needs_background": "light"
          }
        }
      ]
    },
    {
      "cell_type": "code",
      "metadata": {
        "id": "0Om9DFe84qHV"
      },
      "source": [
        "###### Inference Time #############################\n",
        "Number_of_samples=len(y_test)\n",
        "import time\n",
        "start_time=time.time()\n",
        "y_preds = model.predict(X_test)\n",
        "total_time=time.time()-start_time\n",
        "print(total_time)\n",
        "# Inference Time\n",
        "Inference=total_time/Number_of_samples\n",
        "print(Inference)\n",
        "# Frames Per Second                    \n",
        "FPS=1/Inference\n",
        "print([\"FPS=\",FPS])\n",
        "\n",
        "print(\"Inference Time = \", Inference)\n",
        "print(\"FPS = \", FPS)"
      ],
      "execution_count": null,
      "outputs": []
    },
    {
      "cell_type": "code",
      "metadata": {
        "colab": {
          "base_uri": "https://localhost:8080/"
        },
        "id": "weJnn8TEnWX1",
        "outputId": "9c80f629-0278-4758-93ec-0cfd95a0617a"
      },
      "source": [
        "y_pred = (model.predict(X_test)>= mythreshold).astype(int)\n",
        "TP,TN,FP,FN,precision, recall = calc_precision_recall(y_test, y_pred)\n",
        "Accuracy=((TP+TN)/(TP+TN+FP+FN))*100\n",
        "Sensitivity=(TP/(TP+FN))*100\n",
        "Specificity=(TN/(TN+FP))*100\n",
        "Precision=(TP/(TP+FP))*100\n",
        "Recall= Sensitivity\n",
        "f2_score=((5*Precision*Recall) / ((4*Precision) + Recall))/100\n",
        "\n",
        "\n",
        "##################### AUC ################\n",
        "\n",
        "y_preds = model.predict(X_test).ravel()\n",
        "\n",
        "fpr, tpr, thresholds = roc_curve(y_test, y_preds)\n",
        "from sklearn.metrics import auc\n",
        "auc_value = auc(fpr, tpr)\n",
        "\n",
        "\n",
        "\n",
        "import pandas as pd\n",
        "# assign values to lists.  \n",
        "data = [{'Model':'Model1','Accuracy': Accuracy,'Precision':Precision, 'Sensitivity': Sensitivity, 'Specificity':Specificity,'F2-score':f2_score,'ROC-AUC':auc_value}]  \n",
        "  \n",
        "# Creates DataFrame.  \n",
        "df = pd.DataFrame(data)  \n",
        "df.index+=1\n",
        "# Print the data  \n",
        "print(df)\n",
        "print(\"Ideal threshold =\", mythreshold)"
      ],
      "execution_count": 101,
      "outputs": [
        {
          "output_type": "stream",
          "text": [
            "    Model  Accuracy  Precision  Sensitivity  Specificity  F2-score  ROC-AUC\n",
            "1  Model1     100.0      100.0        100.0        100.0       1.0      1.0\n",
            "Ideal threshold = 0.1110000000000011\n"
          ],
          "name": "stdout"
        }
      ]
    },
    {
      "cell_type": "code",
      "metadata": {
        "id": "e4CVxvyoplsE"
      },
      "source": [
        ""
      ],
      "execution_count": null,
      "outputs": []
    }
  ]
}